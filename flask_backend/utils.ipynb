{
 "cells": [
  {
   "cell_type": "code",
   "execution_count": null,
   "metadata": {},
   "outputs": [],
   "source": [
    "# create repositories directory\n",
    "import os\n",
    "\n",
    "def create_repositories_dir():\n",
    "    if not os.path.exists(\"repositories\"):\n",
    "        os.makedirs(\"repositories\")\n",
    "    else:\n",
    "        print(\"repositories directory already exists\")\n",
    "create_repositories_dir()"
   ]
  },
  {
   "cell_type": "code",
   "execution_count": 2,
   "metadata": {},
   "outputs": [
    {
     "name": "stdout",
     "output_type": "stream",
     "text": [
      "Repository https://github.com/ParthJadhav/Verve downloaded successfully\n",
      "Repository https://github.com/SatvikG7/Textbook-Assessment-Portal downloaded successfully\n",
      "Repository https://github.com/SatvikG7/Scalable-Notification-System downloaded successfully\n",
      "Repository https://github.com/SatvikG7/SDL2-Game-Template downloaded successfully\n"
     ]
    }
   ],
   "source": [
    "# write a python function which takes repo name as a parameter downloads it, extracts the repo into the repositories directory \n",
    "\n",
    "def download_repo(repo_name):\n",
    "    os.system(f\"git clone {repo_name} repositories/{repo_name.split('/')[-1]}\")\n",
    "    print(f\"Repository {repo_name} downloaded successfully\")\n",
    "\n",
    "download_repo(\"https://github.com/ParthJadhav/Verve\")\n",
    "download_repo(\"https://github.com/SatvikG7/Textbook-Assessment-Portal\")\n",
    "download_repo(\"https://github.com/SatvikG7/Scalable-Notification-System\")\n",
    "download_repo(\"https://github.com/SatvikG7/SDL2-Game-Template\")"
   ]
  }
 ],
 "metadata": {
  "kernelspec": {
   "display_name": "Python 3",
   "language": "python",
   "name": "python3"
  },
  "language_info": {
   "codemirror_mode": {
    "name": "ipython",
    "version": 3
   },
   "file_extension": ".py",
   "mimetype": "text/x-python",
   "name": "python",
   "nbconvert_exporter": "python",
   "pygments_lexer": "ipython3",
   "version": "3.9.13"
  }
 },
 "nbformat": 4,
 "nbformat_minor": 2
}
