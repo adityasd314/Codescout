{
 "cells": [
  {
   "cell_type": "code",
   "execution_count": 2,
   "metadata": {},
   "outputs": [
    {
     "name": "stdout",
     "output_type": "stream",
     "text": [
      "repositories directory already exists\n"
     ]
    }
   ],
   "source": [
    "# create repositories directory\n",
    "import os\n",
    "\n",
    "def create_repositories_dir():\n",
    "    if not os.path.exists(\"repositories\"):\n",
    "        os.makedirs(\"repositories\")\n",
    "    else:\n",
    "        print(\"repositories directory already exists\")\n",
    "create_repositories_dir()"
   ]
  },
  {
   "cell_type": "code",
   "execution_count": 3,
   "metadata": {},
   "outputs": [
    {
     "name": "stderr",
     "output_type": "stream",
     "text": [
      "Cloning into 'repositories/COEPResult'...\n"
     ]
    },
    {
     "name": "stdout",
     "output_type": "stream",
     "text": [
      "Repository https://github.com/adityasd314/COEPResult downloaded successfully\n"
     ]
    },
    {
     "name": "stderr",
     "output_type": "stream",
     "text": [
      "Cloning into 'repositories/HuffmanHyperTrees'...\n"
     ]
    },
    {
     "name": "stdout",
     "output_type": "stream",
     "text": [
      "Repository https://github.com/adityasd314/HuffmanHyperTrees downloaded successfully\n"
     ]
    },
    {
     "name": "stderr",
     "output_type": "stream",
     "text": [
      "Cloning into 'repositories/SchedulerForMindSpark'...\n"
     ]
    },
    {
     "name": "stdout",
     "output_type": "stream",
     "text": [
      "Repository https://github.com/adityasd314/SchedulerForMindSpark downloaded successfully\n"
     ]
    }
   ],
   "source": [
    "# write a python function which takes repo name as a parameter downloads it, extracts the repo into the repositories directory \n",
    "\n",
    "def download_repo(repo_name):\n",
    "    os.system(f\"git clone {repo_name} repositories/{repo_name.split('/')[-1]}\")\n",
    "    print(f\"Repository {repo_name} downloaded successfully\")\n",
    "\n",
    "download_repo(\"https://github.com/adityasd314/COEPResult\")\n",
    "download_repo(\"https://github.com/adityasd314/HuffmanHyperTrees\")\n",
    "download_repo(\"https://github.com/adityasd314/SchedulerForMindSpark\")\n"
   ]
  },
  {
   "cell_type": "code",
   "execution_count": null,
   "metadata": {},
   "outputs": [],
   "source": []
  }
 ],
 "metadata": {
  "kernelspec": {
   "display_name": "Python 3",
   "language": "python",
   "name": "python3"
  },
  "language_info": {
   "codemirror_mode": {
    "name": "ipython",
    "version": 3
   },
   "file_extension": ".py",
   "mimetype": "text/x-python",
   "name": "python",
   "nbconvert_exporter": "python",
   "pygments_lexer": "ipython3",
   "version": "3.12.3"
  }
 },
 "nbformat": 4,
 "nbformat_minor": 2
}
