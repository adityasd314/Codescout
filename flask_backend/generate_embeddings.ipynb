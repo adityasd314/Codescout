{
 "cells": [
  {
   "cell_type": "code",
   "execution_count": 1,
   "metadata": {},
   "outputs": [],
   "source": [
    "import os\n",
    "\n",
    "allowed_extensions = [\n",
    "    \".py\",\n",
    "    \".java\",\n",
    "    \".go\",\n",
    "    \".rs\",\n",
    "    \".c\",\n",
    "    \".cpp\",\n",
    "    \".c++\",\n",
    "    \".h\",\n",
    "    \".hpp\",\n",
    "    \".cs\",\n",
    "    \".js\",\n",
    "    \".jsx\",\n",
    "    \".ts\",\n",
    "    \".tsx\",\n",
    "    \".html\",\n",
    "    \".css\",\n",
    "    \".php\",\n",
    "    \".sql\",\n",
    "    # \".json\",\n",
    "    # \".xml\",\n",
    "    # \".yml\",\n",
    "    # \".yaml\",\n",
    "    # \".md\",\n",
    "    \".sh\",\n",
    "    \".bat\",\n",
    "    \".ps1\",\n",
    "]\n",
    "\n",
    "# generate a dictionary of the form {filename: content}\n",
    "def read_files(directory) -> dict:\n",
    "    files_content = {}\n",
    "\n",
    "    for root, _, files in os.walk(directory):\n",
    "        for file in files:\n",
    "            file_path = os.path.join(root, file)\n",
    "            _, file_extension = os.path.splitext(file_path)\n",
    "            if file_extension not in allowed_extensions:\n",
    "                continue\n",
    "            \n",
    "            try:\n",
    "                with open(file_path, 'r', encoding='utf-8') as f:\n",
    "                    files_content[file_path] = f.read().splitlines()\n",
    "            except (UnicodeDecodeError, PermissionError) as e:\n",
    "                # Skip files that can't be read (e.g., binary files, permission issues)\n",
    "                print(f\"Could not read file {file_path}: {e}\")\n",
    "\n",
    "    return files_content\n",
    "\n",
    "file_content = read_files(\"repositories\")"
   ]
  },
  {
   "cell_type": "code",
   "execution_count": 13,
   "metadata": {},
   "outputs": [
    {
     "name": "stdout",
     "output_type": "stream",
     "text": [
      "File: repositories\\Textbook-Assessment-Portal\\src\\App.js\n",
      "File Link: ./repositories\\Textbook-Assessment-Portal\\src\\App.js\n",
      "Matches:\n",
      " - \"import { ChakraProvider\" at line 6, column 1\n",
      " - \"import { AuthContextProvider\" at line 20, column 1\n",
      " - \"            <ChakraProvider\" at line 36, column 1\n",
      " - \"            </ChakraProvider\" at line 105, column 1\n",
      "--------------------------------------------\n",
      "File: repositories\\Textbook-Assessment-Portal\\src\\index.js\n",
      "File Link: ./repositories\\Textbook-Assessment-Portal\\src\\index.js\n",
      "Matches:\n",
      " - \"import { AuthContextProvider\" at line 6, column 1\n",
      " - \"     <AuthContextProvider\" at line 11, column 1\n",
      " - \"    </AuthContextProvider\" at line 13, column 1\n",
      "--------------------------------------------\n",
      "File: repositories\\Textbook-Assessment-Portal\\src\\Context\\AuthContext.js\n",
      "File Link: ./repositories\\Textbook-Assessment-Portal\\src\\Context\\AuthContext.js\n",
      "Matches:\n",
      " - \"export const AuthContextProvider\" at line 16, column 1\n",
      " - \"    <AuthContext.Provider\" at line 32, column 1\n",
      " - \"    </AuthContext.Provider\" at line 34, column 1\n",
      "--------------------------------------------\n",
      "File: repositories\\Textbook-Assessment-Portal\\src\\hooks\\useAuthContext.js\n",
      "File Link: ./repositories\\Textbook-Assessment-Portal\\src\\hooks\\useAuthContext.js\n",
      "Matches:\n",
      " - \"    throw Error('useAuthContext must be used inside an AuthContextProvider\" at line 8, column 1\n",
      "--------------------------------------------\n"
     ]
    }
   ],
   "source": [
    "# Regex search in all files\n",
    "# Function to perform regex check on file content\n",
    "import re\n",
    "\n",
    "def search_files(query, files_content):\n",
    "    results = []\n",
    "    regex = re.compile(query)\n",
    "\n",
    "    for file_path, content_lines in files_content.items():\n",
    "        matches_in_file = []\n",
    "\n",
    "        for line_number, line in enumerate(content_lines, start=1):\n",
    "            for match in regex.finditer(line):\n",
    "                col_number = match.start() + 1\n",
    "                matches_in_file.append({\n",
    "                    'line_number': line_number,\n",
    "                    'col_number': col_number,\n",
    "                    'match': match.group()\n",
    "                })\n",
    "\n",
    "        if matches_in_file:\n",
    "            results.append({\n",
    "                'file_path': file_path,\n",
    "                'matches': matches_in_file\n",
    "            })\n",
    "\n",
    "    return results\n",
    "\n",
    "# Function to print results in required format\n",
    "def print_results(results):\n",
    "    for file_result in results:\n",
    "        print(f\"File: {file_result['file_path']}\")\n",
    "        print(f\"File Link: ./\"+ os.path.relpath(file_result['file_path']))  # File link\n",
    "        print(\"Matches:\")\n",
    "        for match in file_result['matches']:\n",
    "            print(f' - \"{match[\"match\"]}\" at line {match[\"line_number\"]}, column {match[\"col_number\"]}')\n",
    "        print(\"--------------------------------------------\")\n",
    "\n",
    "# Main execution function\n",
    "def search_query_in_repo(directory, query):\n",
    "    # Read files from directory\n",
    "    files_content = read_files(directory)\n",
    "\n",
    "    # Perform regex search\n",
    "    results = search_files(query, files_content)\n",
    "\n",
    "    # Print results\n",
    "    if results:\n",
    "        print_results(results)\n",
    "    else:\n",
    "        print(\"No matches found.\")\n",
    "\n",
    "# Example usage:\n",
    "# Replace \"repositories\" with the base directory where your files are located\n",
    "# Replace 'your-regex-query' with the regex you want to search\n",
    "search_query_in_repo(\"repositories\", '.*Provider')\n"
   ]
  },
  {
   "cell_type": "code",
   "execution_count": 12,
   "metadata": {},
   "outputs": [
    {
     "data": {
      "text/plain": [
       "{'repositories\\\\Scalable-Notification-System\\\\main.go': ['package main',\n",
       "  '',\n",
       "  'import (',\n",
       "  '\\t\"fmt\"',\n",
       "  '',\n",
       "  '\\t\"github.com/SatvikG7/Scalable-Notification-System/config\"',\n",
       "  '\\t\"github.com/SatvikG7/Scalable-Notification-System/internal/db\"',\n",
       "  '\\t\"github.com/SatvikG7/Scalable-Notification-System/internal/rabbitmq\"',\n",
       "  '\\t\"github.com/SatvikG7/Scalable-Notification-System/internal/server\"',\n",
       "  ')',\n",
       "  '',\n",
       "  'func main() {',\n",
       "  '\\tif err := config.ConfigENV(); err != nil {',\n",
       "  '\\t\\tfmt.Println(\"Error loading environment variables\")',\n",
       "  '\\t\\treturn',\n",
       "  '\\t}',\n",
       "  '',\n",
       "  '\\tif err := db.Init(); err != nil {',\n",
       "  '\\t\\tfmt.Println(\"Error initializing database\")',\n",
       "  '\\t\\treturn',\n",
       "  '\\t}',\n",
       "  '',\n",
       "  '\\tgo server.Init()',\n",
       "  '',\n",
       "  '\\t// Define worker pools',\n",
       "  '\\tpools := []*rabbitmq.WorkerPool{',\n",
       "  '\\t\\trabbitmq.NewWorkerPool(\"notifications_email_high\", rabbitmq.NewRateLimiter(50), 3, 5),',\n",
       "  '\\t\\trabbitmq.NewWorkerPool(\"notifications_sms_high\", rabbitmq.NewRateLimiter(10), 3, 5),',\n",
       "  '\\t\\trabbitmq.NewWorkerPool(\"notifications_push_high\", rabbitmq.NewRateLimiter(100), 3, 5),',\n",
       "  '\\t\\trabbitmq.NewWorkerPool(\"notifications_email_medium\", rabbitmq.NewRateLimiter(25), 2, 3),',\n",
       "  '\\t\\trabbitmq.NewWorkerPool(\"notifications_sms_medium\", rabbitmq.NewRateLimiter(6), 2, 3),',\n",
       "  '\\t\\trabbitmq.NewWorkerPool(\"notifications_push_medium\", rabbitmq.NewRateLimiter(75), 2, 3),',\n",
       "  '\\t\\trabbitmq.NewWorkerPool(\"notifications_email_low\", rabbitmq.NewRateLimiter(10), 1, 2),',\n",
       "  '\\t\\trabbitmq.NewWorkerPool(\"notifications_sms_low\", rabbitmq.NewRateLimiter(3), 1, 2),',\n",
       "  '\\t\\trabbitmq.NewWorkerPool(\"notifications_push_low\", rabbitmq.NewRateLimiter(50), 1, 2),',\n",
       "  '\\t}',\n",
       "  '',\n",
       "  '\\tconn, ch := rabbitmq.ConnectRabbitMQ(pools)',\n",
       "  '\\tdefer conn.Close()',\n",
       "  '\\tdefer ch.Close()',\n",
       "  '',\n",
       "  '\\trabbitmq.Scheduler(pools, ch)',\n",
       "  '',\n",
       "  '\\tselect {}',\n",
       "  '}'],\n",
       " 'repositories\\\\Scalable-Notification-System\\\\README.md': ['# Scalable Notification Service',\n",
       "  '',\n",
       "  '## Overview',\n",
       "  '',\n",
       "  'The Scalable Notification Service is designed to handle high volumes of notifications efficiently, with a focus on reliability, prioritization, and rate-limiting. It supports multiple notification channels like Email, SMS, and Push notifications, and processes them based on priority levels (High, Medium, Low).',\n",
       "  '',\n",
       "  '## Project Structure',\n",
       "  '',\n",
       "  '```',\n",
       "  '/config                  # Configuration files',\n",
       "  '/internal                # Private application and library code',\n",
       "  '.env                     # Environment configuration',\n",
       "  '.gitignore               # Git ignore rules',\n",
       "  'go.mod                   # Go module file',\n",
       "  'go.sum                   # Go dependencies',\n",
       "  'main.go                  # Main entry point of the application',\n",
       "  'README.md                # Project documentation',\n",
       "  '```',\n",
       "  '',\n",
       "  '### Directory Details',\n",
       "  '',\n",
       "  '- **/config**: Stores configuration files that are necessary for the application to run, including environment variables.',\n",
       "  '- **/internal**: Contains private application and library code that should not be exposed outside of this project.',\n",
       "  '- **main.go**: The main entry point of the application, where the server and worker pools are initialized.',\n",
       "  '',\n",
       "  '## Features Implemented',\n",
       "  '',\n",
       "  '### 1. Initialization and Setup',\n",
       "  '- **Basic HTTP Server Setup**: Using the Fiber framework, a simple HTTP server has been initialized with routes for the root path and a health check.',\n",
       "  '- **Environment Variables**: Configuration is managed using a `.env` file, ensuring that sensitive information is kept secure.',\n",
       "  '',\n",
       "  '### 2. Message Queue Integration',\n",
       "  '- **RabbitMQ**: Implemented RabbitMQ for message queuing with different queues for different notification channels and priorities.',\n",
       "  '- **Producer Logic**: Notifications are sent to different queues based on their channel (e.g., Email, SMS, Push) and priority (e.g., Low, Medium, High).',\n",
       "  '',\n",
       "  '### 3. Worker Pools and Rate Limiting',\n",
       "  '- **Worker Pools**: Defined worker pools for each queue, with the ability to reallocate workers based on queue activity.',\n",
       "  '- **Rate Limiting**: Implemented rate limiting for each worker to ensure external services are not overwhelmed.',\n",
       "  '',\n",
       "  '### 4. Error Handling and Retry Mechanism',\n",
       "  '- **Retry Logic**: If a notification fails to send, it is retried based on specific rules. Unsuccessful notifications are logged to PostgreSQL for further analysis.',\n",
       "  '- **Logging**: Implemented comprehensive logging for tracking errors and system performance.',\n",
       "  '',\n",
       "  '### 5. Worker Reallocation',\n",
       "  '- **Dynamic Worker Allocation**: Workers are dynamically allocated to different queues based on their load and priority. Idle queues have their workers reallocated to active queues.',\n",
       "  '- **Scheduler**: A scheduler balances the priority of queues, ensuring that high-priority notifications are processed promptly without overwhelming any single priority level.',\n",
       "  '',\n",
       "  '## Future Scope',\n",
       "  '',\n",
       "  '### 1. Real-time Monitoring with Prometheus and Grafana',\n",
       "  '- **Metrics Collection**: Integration with Prometheus for collecting metrics related to the performance of the notification service.',\n",
       "  '- **Visualization**: Setting up Grafana dashboards for real-time monitoring and visualization of key metrics, such as message throughput, worker utilization, and error rates.',\n",
       "  '',\n",
       "  '## Installation and Setup',\n",
       "  '',\n",
       "  '1. Clone the repository:',\n",
       "  '   ```bash',\n",
       "  '   git clone https://github.com/yourusername/scalable-notification-service.git',\n",
       "  '   cd scalable-notification-service',\n",
       "  '   ```',\n",
       "  '',\n",
       "  '2. Install dependencies:',\n",
       "  '   ```bash',\n",
       "  '   go mod tidy',\n",
       "  '   ```',\n",
       "  '',\n",
       "  '3. Configure environment variables:',\n",
       "  '   - Create a `.env` file based on the `.env.example` provided in the repository.',\n",
       "  '',\n",
       "  '4. Run the service:',\n",
       "  '   ```bash',\n",
       "  '   go run main.go',\n",
       "  '   ```',\n",
       "  '',\n",
       "  '## License',\n",
       "  '',\n",
       "  'This project is licensed under the MIT License. See the [LICENSE](LICENSE) file for details.',\n",
       "  '',\n",
       "  '## Acknowledgements',\n",
       "  '',\n",
       "  '- Special thanks to the open-source community for the tools and frameworks used in this project.'],\n",
       " 'repositories\\\\Scalable-Notification-System\\\\schema.sql': ['CREATE TABLE users (',\n",
       "  '    id UUID PRIMARY KEY,',\n",
       "  '    username VARCHAR(255) NOT NULL,',\n",
       "  '    email VARCHAR(255) UNIQUE NOT NULL,',\n",
       "  '    phone VARCHAR(20) UNIQUE,',\n",
       "  '    status VARCHAR(50) NOT NULL,',\n",
       "  '    preference_low_channel VARCHAR(50) NOT NULL,',\n",
       "  '    preference_medium_channel VARCHAR(50) NOT NULL,',\n",
       "  '    preference_high_channel VARCHAR(50) NOT NULL',\n",
       "  ');'],\n",
       " 'repositories\\\\Scalable-Notification-System\\\\config\\\\env.go': ['package config',\n",
       "  '',\n",
       "  'import \"github.com/joho/godotenv\"',\n",
       "  '',\n",
       "  'func ConfigENV() error {',\n",
       "  '\\terr := godotenv.Load()',\n",
       "  '',\n",
       "  '\\treturn err',\n",
       "  '}'],\n",
       " 'repositories\\\\Scalable-Notification-System\\\\internal\\\\db\\\\db.go': ['package db',\n",
       "  '',\n",
       "  'import (',\n",
       "  '\\t\"fmt\"',\n",
       "  '\\t\"os\"',\n",
       "  '',\n",
       "  '\\t\"gorm.io/driver/postgres\"',\n",
       "  '\\t\"gorm.io/gorm\"',\n",
       "  ')',\n",
       "  '',\n",
       "  'var DB *gorm.DB',\n",
       "  '',\n",
       "  'func Init() error {',\n",
       "  '\\tdsn := fmt.Sprintf(\"host=%s user=%s password=%s dbname=%s port=%s sslmode=disable TimeZone=Asia/Shanghai\", \"localhost\", os.Getenv(\"DB_USER\"), os.Getenv(\"DB_PASSWORD\"), os.Getenv(\"DB_NAME\"), os.Getenv(\"DB_PORT\"))',\n",
       "  '\\tvar err error',\n",
       "  '\\tDB, err = gorm.Open(postgres.Open(dsn), &gorm.Config{})',\n",
       "  '',\n",
       "  '\\tif err != nil {',\n",
       "  '\\t\\treturn err',\n",
       "  '\\t}',\n",
       "  '',\n",
       "  '\\treturn nil',\n",
       "  '}']}"
      ]
     },
     "execution_count": 12,
     "metadata": {},
     "output_type": "execute_result"
    }
   ],
   "source": [
    "file_content"
   ]
  },
  {
   "cell_type": "code",
   "execution_count": 2,
   "metadata": {},
   "outputs": [
    {
     "data": {
      "text/plain": [
       "192"
      ]
     },
     "execution_count": 2,
     "metadata": {},
     "output_type": "execute_result"
    }
   ],
   "source": [
    "read_files(\"repositories\").items().__len__()"
   ]
  },
  {
   "cell_type": "code",
   "execution_count": 3,
   "metadata": {},
   "outputs": [],
   "source": [
    "from langchain_ollama import ChatOllama\n",
    "\n",
    "llm = ChatOllama(\n",
    "    model = \"gemma2:2b\",\n",
    "    temperature = 0.8,\n",
    "    num_predict = 256,\n",
    ")"
   ]
  },
  {
   "cell_type": "code",
   "execution_count": 4,
   "metadata": {},
   "outputs": [],
   "source": [
    "descriptions = {}\n",
    "\n",
    "# get first 5 files\n",
    "file_content = dict(list(file_content.items())[:5])\n",
    "\n",
    "for filename, content in file_content.items():\n",
    "    file = \"\"\"\"\"\"\n",
    "    for line in content:\n",
    "      file += line + \"\\n\"\n",
    "\n",
    "    messages = [\n",
    "      (\"system\", \"You are a code description generator. Given a file name and its content, generate a concise, descriptive summary of the code's purpose and functionality. The description should be detailed enough to allow retrieval based on natural language queries. For example, if the code is a middleware function in Node.js, generate a description like 'This code implements middleware for a Node.js application.\"),\n",
    "      (\"human\", f\"Please generate a description for the following code snippet: {file} \\n filename: {filename}\"),\n",
    "    ]\n",
    "    response = llm.invoke(messages)\n",
    "    descriptions[filename] = response.content"
   ]
  },
  {
   "cell_type": "code",
   "execution_count": 5,
   "metadata": {},
   "outputs": [
    {
     "data": {
      "text/plain": [
       "{'repositories\\\\Scalable-Notification-System\\\\main.go': 'This code defines the main execution flow of a scalable notification system application. It initializes various components such as config settings, database connection, and worker pools for different types of notifications. \\n\\nThe `main` function first loads environment variables from the configuration file. Then it establishes the connection to the database, and initializes the server using `go server.Init()`. The code then defines multiple worker pools for different notification channels (email, SMS, push) and their corresponding rate limits. Finally, the `rabbitmq.Scheduler()` function manages the communication between these workers and the RabbitMQ queue using the defined worker pools and connections. \\n\\n**Note:** The code utilizes packages from the `github.com/SatvikG7/Scalable-Notification-System` repository to manage configuration, database operations, network communication with RabbitMQ, and server initialization.',\n",
       " 'repositories\\\\Scalable-Notification-System\\\\README.md': 'This code implements a scalable notification service designed for high volume message handling. It supports multiple channels like email, SMS, and push notifications based on priority levels (High, Medium, Low). The service uses RabbitMQ messaging queues and worker pools to distribute tasks and ensure efficient processing with rate limiting.  It incorporates error handling, logging, and dynamic worker allocation for optimal performance. For real-time monitoring, the project plans to integrate Prometheus and Grafana. \\n\\n\\n',\n",
       " 'repositories\\\\Scalable-Notification-System\\\\schema.sql': 'This SQL code defines the structure of a database table named \"users\".  The table stores user information such as their ID, username, email address, phone number, and preferred notification channels (low, medium, high). \\n\\n**Specifically:**\\n\\n* **id**: Unique identifier for each user. It\\'s a UUID type with `PRIMARY KEY` constraint ensuring its uniqueness across all users.\\n* **username, email, phone, status**:  Common user information like username, email address and phone number are stored in the respective columns. \\n* **preference_low, preference_medium, preference_high**: Columns for storing preferences on how notifications should be delivered (e.g., low-level channel, medium-level channel, high-level channel)\\n\\nThis table structure likely forms the basis for user management and communication within a system that utilizes notification capabilities. \\n',\n",
       " 'repositories\\\\Scalable-Notification-System\\\\config\\\\env.go': \"This code snippet defines a function named `ConfigENV()` which loads environment variables from the `.env` file using the `godotenv` package.  \\n\\nIt assumes that there's a file called `env.go` in the `config/` directory of your project (as indicated by `repositories\\\\Scalable-Notification-System\\\\config`) and handles any potential errors during the loading process.\\n \\n This function likely serves as the entry point for setting up and accessing environment variables used throughout your application.  \\n\\n\\n\",\n",
       " 'repositories\\\\Scalable-Notification-System\\\\internal\\\\db\\\\db.go': \"This code establishes a connection to a PostgreSQL database for use within a Go application. It imports necessary packages like `gorm` for database interaction and `fmt`, and sets up the database using environment variables from the `DB_USER`, `DB_PASSWORD`, `DB_NAME`, `DB_PORT` environment. \\n\\nIt defines a variable `DB` of type `*gorm.DB` to store the connection to the database and uses the `Init()` function to initialize it. This function first defines a DSN string based on provided environment variables, opens the database using gorm.io's PostgreSQL driver (with SSL disabled for demonstration), and then stores the resulting database connection object in `DB`.\\n\\nFinally, if an error occurs during database initialization, the error is returned.  \\n\"}"
      ]
     },
     "execution_count": 5,
     "metadata": {},
     "output_type": "execute_result"
    }
   ],
   "source": [
    "descriptions"
   ]
  },
  {
   "cell_type": "markdown",
   "metadata": {},
   "source": []
  },
  {
   "cell_type": "code",
   "execution_count": 6,
   "metadata": {},
   "outputs": [],
   "source": [
    "import uuid\n",
    "\n",
    "def generate_uuid(repo_name: str) -> str:\n",
    "    return str(uuid.uuid5(uuid.NAMESPACE_DNS, repo_name))\n"
   ]
  },
  {
   "cell_type": "code",
   "execution_count": 7,
   "metadata": {},
   "outputs": [],
   "source": [
    "from langchain_core.documents import Document\n",
    "\n",
    "docs =[]\n",
    "uuids = []\n",
    "for index, (filename, description) in enumerate(descriptions.items()):\n",
    "    docs.append(Document(\n",
    "        id=index,\n",
    "        page_content=description,\n",
    "    ))\n",
    "    uuids.append(generate_uuid(filename))"
   ]
  },
  {
   "cell_type": "code",
   "execution_count": null,
   "metadata": {},
   "outputs": [],
   "source": []
  },
  {
   "cell_type": "code",
   "execution_count": 11,
   "metadata": {},
   "outputs": [
    {
     "data": {
      "text/plain": [
       "'a\\\\asdf'"
      ]
     },
     "execution_count": 11,
     "metadata": {},
     "output_type": "execute_result"
    }
   ],
   "source": [
    "\"a\\\\asdf\""
   ]
  },
  {
   "cell_type": "code",
   "execution_count": 8,
   "metadata": {},
   "outputs": [],
   "source": [
    "from langchain_ollama.embeddings import OllamaEmbeddings\n",
    "\n",
    "embeddings = OllamaEmbeddings(\n",
    "    model=\"nomic-embed-text\"\n",
    ")"
   ]
  },
  {
   "cell_type": "code",
   "execution_count": 9,
   "metadata": {},
   "outputs": [],
   "source": [
    "from langchain_chroma import Chroma\n",
    "\n",
    "vector_store = Chroma(\n",
    "    collection_name=\"descriptions\",\n",
    "    embedding_function=embeddings,\n",
    "    persist_directory=\"./vector_store\",\n",
    ")"
   ]
  },
  {
   "cell_type": "code",
   "execution_count": 10,
   "metadata": {},
   "outputs": [
    {
     "data": {
      "text/plain": [
       "['f49c4048-ebd5-5619-86f3-749b48c91505',\n",
       " '2b11aedb-6949-5573-848e-5de04a9edc00',\n",
       " '19c9a972-977c-5656-b23d-8ec9b94c0e51',\n",
       " '74a3fb79-efc8-5830-b096-2f628434e1db',\n",
       " '2175f648-081a-525d-99ec-965dc67060c9']"
      ]
     },
     "execution_count": 10,
     "metadata": {},
     "output_type": "execute_result"
    }
   ],
   "source": [
    "vector_store.add_documents(documents=docs, ids=uuids)"
   ]
  },
  {
   "cell_type": "code",
   "execution_count": 11,
   "metadata": {},
   "outputs": [],
   "source": [
    "retriever = vector_store.as_retriever(\n",
    "  search_type=\"similarity\", \n",
    "  search_kwargs={'k': 1}\n",
    ")"
   ]
  }
 ],
 "metadata": {
  "kernelspec": {
   "display_name": "Python 3",
   "language": "python",
   "name": "python3"
  },
  "language_info": {
   "codemirror_mode": {
    "name": "ipython",
    "version": 3
   },
   "file_extension": ".py",
   "mimetype": "text/x-python",
   "name": "python",
   "nbconvert_exporter": "python",
   "pygments_lexer": "ipython3",
   "version": "3.12.3"
  }
 },
 "nbformat": 4,
 "nbformat_minor": 2
}
