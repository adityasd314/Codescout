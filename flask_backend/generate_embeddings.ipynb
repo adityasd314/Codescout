{
 "cells": [
  {
   "cell_type": "code",
   "execution_count": 1,
   "metadata": {},
   "outputs": [],
   "source": [
    "import os\n",
    "\n",
    "allowed_extensions = [\n",
    "    \".py\",\n",
    "    \".java\",\n",
    "    \".go\",\n",
    "    \".rs\",\n",
    "    \".c\",\n",
    "    \".cpp\",\n",
    "    \".c++\",\n",
    "    \".h\",\n",
    "    \".hpp\",\n",
    "    \".cs\",\n",
    "    \".js\",\n",
    "    \".jsx\",\n",
    "    \".ts\",\n",
    "    \".tsx\",\n",
    "    \".html\",\n",
    "    \".css\",\n",
    "    \".php\",\n",
    "    \".sql\",\n",
    "    # \".json\",\n",
    "    # \".xml\",\n",
    "    # \".yml\",\n",
    "    # \".yaml\",\n",
    "    # \".md\",\n",
    "    \".sh\",\n",
    "    \".bat\",\n",
    "    \".ps1\",\n",
    "]\n",
    "\n",
    "# generate a dictionary of the form {filename: content}\n",
    "def read_files(directory) -> dict:\n",
    "    files_content = {}\n",
    "\n",
    "    for root, _, files in os.walk(directory):\n",
    "        for file in files:\n",
    "            file_path = os.path.join(root, file)\n",
    "            _, file_extension = os.path.splitext(file_path)\n",
    "            if file_extension not in allowed_extensions:\n",
    "                continue\n",
    "            \n",
    "            try:\n",
    "                with open(file_path, 'r', encoding='utf-8') as f:\n",
    "                    files_content[file_path] = f.read().splitlines()\n",
    "            except (UnicodeDecodeError, PermissionError) as e:\n",
    "                # Skip files that can't be read (e.g., binary files, permission issues)\n",
    "                print(f\"Could not read file {file_path}: {e}\")\n",
    "\n",
    "    return files_content\n",
    "\n",
    "file_content = read_files(\"repositories\")"
   ]
  },
  {
   "cell_type": "code",
   "execution_count": 13,
   "metadata": {},
   "outputs": [
    {
     "name": "stdout",
     "output_type": "stream",
     "text": [
      "File: repositories\\Textbook-Assessment-Portal\\src\\App.js\n",
      "File Link: ./repositories\\Textbook-Assessment-Portal\\src\\App.js\n",
      "Matches:\n",
      " - \"import { ChakraProvider\" at line 6, column 1\n",
      " - \"import { AuthContextProvider\" at line 20, column 1\n",
      " - \"            <ChakraProvider\" at line 36, column 1\n",
      " - \"            </ChakraProvider\" at line 105, column 1\n",
      "--------------------------------------------\n",
      "File: repositories\\Textbook-Assessment-Portal\\src\\index.js\n",
      "File Link: ./repositories\\Textbook-Assessment-Portal\\src\\index.js\n",
      "Matches:\n",
      " - \"import { AuthContextProvider\" at line 6, column 1\n",
      " - \"     <AuthContextProvider\" at line 11, column 1\n",
      " - \"    </AuthContextProvider\" at line 13, column 1\n",
      "--------------------------------------------\n",
      "File: repositories\\Textbook-Assessment-Portal\\src\\Context\\AuthContext.js\n",
      "File Link: ./repositories\\Textbook-Assessment-Portal\\src\\Context\\AuthContext.js\n",
      "Matches:\n",
      " - \"export const AuthContextProvider\" at line 16, column 1\n",
      " - \"    <AuthContext.Provider\" at line 32, column 1\n",
      " - \"    </AuthContext.Provider\" at line 34, column 1\n",
      "--------------------------------------------\n",
      "File: repositories\\Textbook-Assessment-Portal\\src\\hooks\\useAuthContext.js\n",
      "File Link: ./repositories\\Textbook-Assessment-Portal\\src\\hooks\\useAuthContext.js\n",
      "Matches:\n",
      " - \"    throw Error('useAuthContext must be used inside an AuthContextProvider\" at line 8, column 1\n",
      "--------------------------------------------\n"
     ]
    }
   ],
   "source": [
    "# Regex search in all files\n",
    "# Function to perform regex check on file content\n",
    "import re\n",
    "\n",
    "def search_files(query, files_content):\n",
    "    results = []\n",
    "    regex = re.compile(query)\n",
    "\n",
    "    for file_path, content_lines in files_content.items():\n",
    "        matches_in_file = []\n",
    "\n",
    "        for line_number, line in enumerate(content_lines, start=1):\n",
    "            for match in regex.finditer(line):\n",
    "                col_number = match.start() + 1\n",
    "                matches_in_file.append({\n",
    "                    'line_number': line_number,\n",
    "                    'col_number': col_number,\n",
    "                    'match': match.group()\n",
    "                })\n",
    "\n",
    "        if matches_in_file:\n",
    "            results.append({\n",
    "                'file_path': file_path,\n",
    "                'matches': matches_in_file\n",
    "            })\n",
    "\n",
    "    return results\n",
    "\n",
    "# Function to print results in required format\n",
    "def print_results(results):\n",
    "    for file_result in results:\n",
    "        print(f\"File: {file_result['file_path']}\")\n",
    "        print(f\"File Link: ./\"+ os.path.relpath(file_result['file_path']))  # File link\n",
    "        print(\"Matches:\")\n",
    "        for match in file_result['matches']:\n",
    "            print(f' - \"{match[\"match\"]}\" at line {match[\"line_number\"]}, column {match[\"col_number\"]}')\n",
    "        print(\"--------------------------------------------\")\n",
    "\n",
    "# Main execution function\n",
    "def search_query_in_repo(directory, query):\n",
    "    # Read files from directory\n",
    "    files_content = read_files(directory)\n",
    "\n",
    "    # Perform regex search\n",
    "    results = search_files(query, files_content)\n",
    "\n",
    "    # Print results\n",
    "    if results:\n",
    "        print_results(results)\n",
    "    else:\n",
    "        print(\"No matches found.\")\n",
    "\n",
    "# Example usage:\n",
    "# Replace \"repositories\" with the base directory where your files are located\n",
    "# Replace 'your-regex-query' with the regex you want to search\n",
    "search_query_in_repo(\"repositories\", '.*Provider')\n"
   ]
  },
  {
   "cell_type": "code",
   "execution_count": 1,
   "metadata": {},
   "outputs": [
    {
     "ename": "NameError",
     "evalue": "name 'file_content' is not defined",
     "output_type": "error",
     "traceback": [
      "\u001b[0;31m---------------------------------------------------------------------------\u001b[0m",
      "\u001b[0;31mNameError\u001b[0m                                 Traceback (most recent call last)",
      "Cell \u001b[0;32mIn[1], line 1\u001b[0m\n\u001b[0;32m----> 1\u001b[0m \u001b[43mfile_content\u001b[49m\n",
      "\u001b[0;31mNameError\u001b[0m: name 'file_content' is not defined"
     ]
    }
   ],
   "source": [
    "file_content"
   ]
  },
  {
   "cell_type": "code",
   "execution_count": 2,
   "metadata": {},
   "outputs": [
    {
     "data": {
      "text/plain": [
       "192"
      ]
     },
     "execution_count": 2,
     "metadata": {},
     "output_type": "execute_result"
    }
   ],
   "source": [
    "read_files(\"repositories\").items().__len__()"
   ]
  },
  {
   "cell_type": "code",
   "execution_count": 3,
   "metadata": {},
   "outputs": [],
   "source": [
    "from langchain_ollama import ChatOllama\n",
    "\n",
    "llm = ChatOllama(\n",
    "    model = \"gemma2:2b\",\n",
    "    temperature = 0.8,\n",
    "    num_predict = 256,\n",
    ")"
   ]
  },
  {
   "cell_type": "code",
   "execution_count": 4,
   "metadata": {},
   "outputs": [],
   "source": [
    "descriptions = {}\n",
    "\n",
    "# get first 5 files\n",
    "file_content = dict(list(file_content.items())[:5])\n",
    "\n",
    "for filename, content in file_content.items():\n",
    "    file = \"\"\"\"\"\"\n",
    "    for line in content:\n",
    "      file += line + \"\\n\"\n",
    "\n",
    "    messages = [\n",
    "      (\"system\", \"You are a code description generator. Given a file name and its content, generate a concise, descriptive summary of the code's purpose and functionality. The description should be detailed enough to allow retrieval based on natural language queries. For example, if the code is a middleware function in Node.js, generate a description like 'This code implements middleware for a Node.js application.\"),\n",
    "      (\"human\", f\"Please generate a description for the following code snippet: {file} \\n filename: {filename}\"),\n",
    "    ]\n",
    "    response = llm.invoke(messages)\n",
    "    descriptions[filename] = response.content"
   ]
  },
  {
   "cell_type": "code",
   "execution_count": 2,
   "metadata": {},
   "outputs": [
    {
     "ename": "NameError",
     "evalue": "name 'descriptions' is not defined",
     "output_type": "error",
     "traceback": [
      "\u001b[0;31m---------------------------------------------------------------------------\u001b[0m",
      "\u001b[0;31mNameError\u001b[0m                                 Traceback (most recent call last)",
      "Cell \u001b[0;32mIn[2], line 1\u001b[0m\n\u001b[0;32m----> 1\u001b[0m \u001b[43mdescriptions\u001b[49m\n",
      "\u001b[0;31mNameError\u001b[0m: name 'descriptions' is not defined"
     ]
    }
   ],
   "source": [
    "descriptions"
   ]
  },
  {
   "cell_type": "markdown",
   "metadata": {},
   "source": []
  },
  {
   "cell_type": "code",
   "execution_count": 6,
   "metadata": {},
   "outputs": [],
   "source": [
    "import uuid\n",
    "\n",
    "def generate_uuid(repo_name: str) -> str:\n",
    "    return str(uuid.uuid5(uuid.NAMESPACE_DNS, repo_name))\n"
   ]
  },
  {
   "cell_type": "code",
   "execution_count": 7,
   "metadata": {},
   "outputs": [],
   "source": [
    "from langchain_core.documents import Document\n",
    "\n",
    "docs =[]\n",
    "uuids = []\n",
    "for index, (filename, description) in enumerate(descriptions.items()):\n",
    "    docs.append(Document(\n",
    "        id=index,\n",
    "        page_content=description,\n",
    "    ))\n",
    "    uuids.append(generate_uuid(filename))"
   ]
  },
  {
   "cell_type": "code",
   "execution_count": null,
   "metadata": {},
   "outputs": [],
   "source": []
  },
  {
   "cell_type": "code",
   "execution_count": 11,
   "metadata": {},
   "outputs": [
    {
     "data": {
      "text/plain": [
       "'a\\\\asdf'"
      ]
     },
     "execution_count": 11,
     "metadata": {},
     "output_type": "execute_result"
    }
   ],
   "source": [
    "\"a\\\\asdf\""
   ]
  },
  {
   "cell_type": "code",
   "execution_count": 8,
   "metadata": {},
   "outputs": [],
   "source": [
    "from langchain_ollama.embeddings import OllamaEmbeddings\n",
    "\n",
    "embeddings = OllamaEmbeddings(\n",
    "    model=\"nomic-embed-text\"\n",
    ")"
   ]
  },
  {
   "cell_type": "code",
   "execution_count": 9,
   "metadata": {},
   "outputs": [],
   "source": [
    "from langchain_chroma import Chroma\n",
    "\n",
    "vector_store = Chroma(\n",
    "    collection_name=\"descriptions\",\n",
    "    embedding_function=embeddings,\n",
    "    persist_directory=\"./vector_store\",\n",
    ")"
   ]
  },
  {
   "cell_type": "code",
   "execution_count": 10,
   "metadata": {},
   "outputs": [
    {
     "data": {
      "text/plain": [
       "['f49c4048-ebd5-5619-86f3-749b48c91505',\n",
       " '2b11aedb-6949-5573-848e-5de04a9edc00',\n",
       " '19c9a972-977c-5656-b23d-8ec9b94c0e51',\n",
       " '74a3fb79-efc8-5830-b096-2f628434e1db',\n",
       " '2175f648-081a-525d-99ec-965dc67060c9']"
      ]
     },
     "execution_count": 10,
     "metadata": {},
     "output_type": "execute_result"
    }
   ],
   "source": [
    "vector_store.add_documents(documents=docs, ids=uuids)"
   ]
  },
  {
   "cell_type": "code",
   "execution_count": 11,
   "metadata": {},
   "outputs": [],
   "source": [
    "retriever = vector_store.as_retriever(\n",
    "  search_type=\"similarity\", \n",
    "  search_kwargs={'k': 1}\n",
    ")"
   ]
  }
 ],
 "metadata": {
  "kernelspec": {
   "display_name": "Python 3",
   "language": "python",
   "name": "python3"
  },
  "language_info": {
   "codemirror_mode": {
    "name": "ipython",
    "version": 3
   },
   "file_extension": ".py",
   "mimetype": "text/x-python",
   "name": "python",
   "nbconvert_exporter": "python",
   "pygments_lexer": "ipython3",
   "version": "3.12.3"
  }
 },
 "nbformat": 4,
 "nbformat_minor": 2
}
