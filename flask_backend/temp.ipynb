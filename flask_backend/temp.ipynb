{
 "cells": [
  {
   "cell_type": "code",
   "execution_count": null,
   "metadata": {},
   "outputs": [],
   "source": [
    "import os\n",
    "\n",
    "def read_code_snippets(directory_path):\n",
    "    code_snippets = {}\n",
    "    for filename in os.listdir(directory_path):\n",
    "        file_path = os.path.join(directory_path, filename)\n",
    "        if os.path.isfile(file_path):\n",
    "            with open(file_path, 'r', encoding='utf-8') as file:\n",
    "                content = file.read()\n",
    "                code_snippets[filename] = content\n",
    "\n",
    "    return code_snippets\n",
    "\n",
    "directory_path = './code_snippets/'\n",
    "code_snippets_dict = read_code_snippets(directory_path)\n",
    "\n",
    "from langchain_ollama import ChatOllama\n",
    "\n",
    "llm = ChatOllama(\n",
    "    model = \"gemma2:2b\",\n",
    "    temperature = 0.8,\n",
    "    num_predict = 256,\n",
    ")\n",
    "\n",
    "descriptions = []\n",
    "\n",
    "for filename, content in code_snippets_dict.items():\n",
    "    messages = [\n",
    "      (\"system\", \"You are a helpful code description generator. I will give you a file name and its content, and you will generate a description for it so that I can use that description to retrieve the file later. For example if I give you a code snippet of middleware in node.js, you should generate a description like 'this is a way to write a middleware in node.js' so that when a user asks for 'How to write a middleware?', I can use this description to retrieve the file.\"),\n",
    "      (\"human\", f\"Please generate a description for the following code snippet: {content} \\n filename: {filename}\"),\n",
    "    ]\n",
    "    response = llm.invoke(messages)\n",
    "    descriptions.append(response.content)\n",
    "\n",
    "# store the descriptions in a file as filename.txt\n",
    "\n",
    "os.makedirs('descriptions', exist_ok=True)\n",
    "\n",
    "for filename, description in zip(code_snippets_dict.keys(), descriptions):\n",
    "    with open(f'descriptions/{filename}.txt', 'w', encoding='utf-8') as file:\n",
    "        file.write(description)\n"
   ]
  },
  {
   "cell_type": "code",
   "execution_count": null,
   "metadata": {},
   "outputs": [],
   "source": [
    "import os\n",
    "\n",
    "files = os.listdir(\"descriptions\")\n",
    "file_paths = [\"./descriptions/\" + file for file in files]\n",
    "\n",
    "from langchain_core.documents import Document\n",
    "\n",
    "docs = []\n",
    "for index, file_paths in enumerate(file_paths):\n",
    "    with open(file_paths, \"r\") as file:\n",
    "        text = file.read()\n",
    "        doc = Document(page_content=text, metadata={\"file_path\": file_paths}, id=index)\n",
    "        docs.append(doc)\n",
    "\n",
    "from langchain_ollama.embeddings import OllamaEmbeddings\n",
    "\n",
    "embeddings = OllamaEmbeddings(\n",
    "    model=\"nomic-embed-text\"\n",
    ")"
   ]
  },
  {
   "cell_type": "code",
   "execution_count": null,
   "metadata": {},
   "outputs": [],
   "source": [
    "from langchain_chroma import Chroma\n",
    "\n",
    "vector_store = Chroma(\n",
    "    collection_name=\"descriptions\",\n",
    "    embedding_function=embeddings,\n",
    "    persist_directory=\"./chroma_langchain_db\",\n",
    ")"
   ]
  },
  {
   "cell_type": "code",
   "execution_count": null,
   "metadata": {},
   "outputs": [],
   "source": [
    "vector_store.add_documents(docs)"
   ]
  },
  {
   "cell_type": "code",
   "execution_count": null,
   "metadata": {},
   "outputs": [],
   "source": [
    "retriever = vector_store.as_retriever(\n",
    "  search_type=\"similarity\", \n",
    "  search_kwargs={'k': 1}\n",
    ")"
   ]
  },
  {
   "cell_type": "code",
   "execution_count": null,
   "metadata": {},
   "outputs": [],
   "source": [
    "query_texts = [\"prisma\"]\n",
    "\n",
    "for q in query_texts:\n",
    "    results = retriever.invoke(q)\n",
    "    print(\"code_snippets/\" + results[0].metadata[\"file_path\"].split(\"./descriptions/\")[1].split(\".txt\")[0])\n",
    "    print(\"code_snippets/\" + results[1].metadata[\"file_path\"].split(\"./descriptions/\")[1].split(\".txt\")[0])\n",
    "    print(\"code_snippets/\" + results[2].metadata[\"file_path\"].split(\"./descriptions/\")[1].split(\".txt\")[0])"
   ]
  },
  {
   "cell_type": "code",
   "execution_count": 1,
   "metadata": {},
   "outputs": [],
   "source": [
    "from langchain_chroma import Chroma\n",
    "from langchain_ollama.embeddings import OllamaEmbeddings\n",
    "embeddings = OllamaEmbeddings(model=\"nomic-embed-text\")\n",
    "\n",
    "vector_store = Chroma(\n",
    "    collection_name=\"descriptions\",\n",
    "    embedding_function=embeddings,\n",
    "    persist_directory=\"./vector_store\",\n",
    ")"
   ]
  },
  {
   "cell_type": "code",
   "execution_count": 16,
   "metadata": {},
   "outputs": [
    {
     "data": {
      "text/plain": [
       "\"This test file uses the `tap` testing framework to verify the basic functionality of an Express.js application's routing system. It defines three test routes (`/`, `/index.html`, and `/docs`) that are used to check if the corresponding endpoints return a 200 status code with expected content type headers. Additionally, it checks if the `/favicon.ico` endpoint returns a successful response.  \\n\""
      ]
     },
     "execution_count": 16,
     "metadata": {},
     "output_type": "execute_result"
    }
   ],
   "source": [
    "# print all the documents in the collection\n",
    "\n",
    "vector_store.get()[\"documents\"][131]"
   ]
  },
  {
   "cell_type": "code",
   "execution_count": 11,
   "metadata": {},
   "outputs": [
    {
     "data": {
      "text/plain": [
       "UUID('1ef49e66-72af-5f17-be5d-d48afbbb1827')"
      ]
     },
     "execution_count": 11,
     "metadata": {},
     "output_type": "execute_result"
    }
   ],
   "source": [
    "import uuid\n",
    "\n",
    "uuid.uuid5(uuid.NAMESPACE_DNS, \"repositories\\\\Pop-out-Menu\\\\docs\\\\index.html\")"
   ]
  }
 ],
 "metadata": {
  "kernelspec": {
   "display_name": "venv",
   "language": "python",
   "name": "python3"
  },
  "language_info": {
   "codemirror_mode": {
    "name": "ipython",
    "version": 3
   },
   "file_extension": ".py",
   "mimetype": "text/x-python",
   "name": "python",
   "nbconvert_exporter": "python",
   "pygments_lexer": "ipython3",
   "version": "3.12.3"
  }
 },
 "nbformat": 4,
 "nbformat_minor": 2
}
